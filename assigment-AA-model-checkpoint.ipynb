{
 "cells": [
  {
   "cell_type": "code",
   "execution_count": 1,
   "id": "f248683b",
   "metadata": {},
   "outputs": [],
   "source": [
    "import cobra\n",
    "import escher\n",
    "\n"
   ]
  },
  {
   "cell_type": "code",
   "execution_count": 2,
   "id": "57fc537a",
   "metadata": {},
   "outputs": [],
   "source": [
    "from cobra import Model,Reaction,Metabolite\n",
    "from escher import Builder"
   ]
  },
  {
   "cell_type": "code",
   "execution_count": 3,
   "id": "173607ea",
   "metadata": {},
   "outputs": [],
   "source": [
    "model=Model('model')\n",
    "\n",
    "v1=Reaction('v1')\n",
    "v1.name='v1'\n",
    "v1.lower_bound=0\n",
    "v1.upper_bound=1000\n",
    "\n",
    "v2=Reaction('v2')\n",
    "v2.name='v2'\n",
    "v2.lower_bound=0\n",
    "v2.upper_bound=1000\n",
    "\n",
    "v0=Reaction('v0')\n",
    "v0.name='v0'\n",
    "v0.lower_bound=1\n",
    "v0.upper_bound=1\n",
    "\n",
    "M=Reaction('M')\n",
    "M.name='M'\n",
    "M.lower_bound=0\n",
    "M.upper_bound=1000\n"
   ]
  },
  {
   "cell_type": "code",
   "execution_count": 4,
   "id": "7d49a569",
   "metadata": {},
   "outputs": [],
   "source": [
    "glc=Metabolite('glc',compartment='c')\n",
    "AA=Metabolite('AA',compartment='c')\n",
    "biomass=Metabolite('biomass',compartment='c')"
   ]
  },
  {
   "cell_type": "code",
   "execution_count": 5,
   "id": "e5b70952",
   "metadata": {},
   "outputs": [],
   "source": [
    "#### v1: glc======> AA #########\n",
    "v1.add_metabolites({glc:-1,AA:1})\n",
    "#### v2: 9.09AA======>biomass #########\n",
    "v2.add_metabolites({AA:-9.09,biomass:1})\n",
    "#### v0: ======>glc #########\n",
    "v0.add_metabolites({glc:1})\n",
    "#### M: biomass======> #########\n",
    "M.add_metabolites({biomass:-1})\n",
    "\n"
   ]
  },
  {
   "cell_type": "code",
   "execution_count": 6,
   "id": "b86863d5",
   "metadata": {},
   "outputs": [
    {
     "data": {
      "text/html": [
       "<strong><em>Optimal</em> solution with objective value 0.110</strong><br><div>\n",
       "<style scoped>\n",
       "    .dataframe tbody tr th:only-of-type {\n",
       "        vertical-align: middle;\n",
       "    }\n",
       "\n",
       "    .dataframe tbody tr th {\n",
       "        vertical-align: top;\n",
       "    }\n",
       "\n",
       "    .dataframe thead th {\n",
       "        text-align: right;\n",
       "    }\n",
       "</style>\n",
       "<table border=\"1\" class=\"dataframe\">\n",
       "  <thead>\n",
       "    <tr style=\"text-align: right;\">\n",
       "      <th></th>\n",
       "      <th>fluxes</th>\n",
       "      <th>reduced_costs</th>\n",
       "    </tr>\n",
       "  </thead>\n",
       "  <tbody>\n",
       "    <tr>\n",
       "      <th>v0</th>\n",
       "      <td>1.000000</td>\n",
       "      <td>0.220022</td>\n",
       "    </tr>\n",
       "    <tr>\n",
       "      <th>v1</th>\n",
       "      <td>1.000000</td>\n",
       "      <td>0.000000</td>\n",
       "    </tr>\n",
       "    <tr>\n",
       "      <th>v2</th>\n",
       "      <td>0.110011</td>\n",
       "      <td>0.000000</td>\n",
       "    </tr>\n",
       "    <tr>\n",
       "      <th>M</th>\n",
       "      <td>0.110011</td>\n",
       "      <td>0.000000</td>\n",
       "    </tr>\n",
       "  </tbody>\n",
       "</table>\n",
       "</div>"
      ],
      "text/plain": [
       "<Solution 0.110 at 0x1703eba3580>"
      ]
     },
     "execution_count": 6,
     "metadata": {},
     "output_type": "execute_result"
    }
   ],
   "source": [
    "model.add_reactions([v0,v1,v2,M])\n",
    "model.objective='M'\n",
    "model.optimize()\n"
   ]
  },
  {
   "cell_type": "code",
   "execution_count": 7,
   "id": "b153c48e",
   "metadata": {},
   "outputs": [],
   "source": [
    "cobra.io.save_json_model(model,\"model.json\")"
   ]
  },
  {
   "cell_type": "code",
   "execution_count": 8,
   "id": "21185370",
   "metadata": {},
   "outputs": [
    {
     "data": {
      "application/vnd.jupyter.widget-view+json": {
       "model_id": "339cf13d69b84b189cfa2ef0b0b9a57a",
       "version_major": 2,
       "version_minor": 0
      },
      "text/plain": [
       "Builder()"
      ]
     },
     "metadata": {},
     "output_type": "display_data"
    }
   ],
   "source": [
    "build=Builder()\n",
    "build"
   ]
  },
  {
   "cell_type": "code",
   "execution_count": null,
   "id": "b3763af1",
   "metadata": {},
   "outputs": [],
   "source": []
  }
 ],
 "metadata": {
  "kernelspec": {
   "display_name": "Python 3 (ipykernel)",
   "language": "python",
   "name": "python3"
  },
  "language_info": {
   "codemirror_mode": {
    "name": "ipython",
    "version": 3
   },
   "file_extension": ".py",
   "mimetype": "text/x-python",
   "name": "python",
   "nbconvert_exporter": "python",
   "pygments_lexer": "ipython3",
   "version": "3.9.7"
  }
 },
 "nbformat": 4,
 "nbformat_minor": 5
}
